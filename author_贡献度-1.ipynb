{
 "cells": [
  {
   "attachments": {},
   "cell_type": "markdown",
   "metadata": {},
   "source": [
    "# 引用"
   ]
  },
  {
   "cell_type": "code",
   "execution_count": 13,
   "metadata": {},
   "outputs": [],
   "source": [
    "import pandas as pd\n",
    "import os\n",
    "import shutil\n",
    "from typing import List\n",
    "import pandas as pd\n",
    "from openpyxl import load_workbook\n",
    "from openpyxl import Workbook"
   ]
  },
  {
   "cell_type": "code",
   "execution_count": 14,
   "metadata": {},
   "outputs": [],
   "source": [
    "# 加载CSV文件\n",
    "# file_path = \"esg-daip-core-web/esg-daip-core-web.csv\"\n",
    "file_path = \"spider_git_data/spider_git_data.csv\"\n",
    "df = pd.read_csv(file_path, encoding='utf-8')"
   ]
  },
  {
   "cell_type": "code",
   "execution_count": 15,
   "metadata": {},
   "outputs": [],
   "source": [
    "folder_name = os.path.splitext(file_path)[0]\n",
    "if not os.path.exists(folder_name):\n",
    "    os.makedirs(folder_name, exist_ok=True)\n",
    "\n",
    "filename = os.path.join(folder_name, os.path.basename(\"out.xlsx\"))\n",
    "\n",
    "def add_df_to_excel(df, sheet_name, filename=filename):\n",
    "\n",
    "    if not os.path.exists(filename):\n",
    "        wb = Workbook()\n",
    "        wb.save(filename)\n",
    "\n",
    "    # 加载现有的 excel 文件\n",
    "    book = load_workbook(filename)\n",
    "\n",
    "    # 创建 ExcelWriter 对象，使用这个 book\n",
    "    writer = pd.ExcelWriter(filename, engine='openpyxl') \n",
    "\n",
    "    # 将这个 book 作为 writer 对象的书\n",
    "    writer.book = book\n",
    "\n",
    "    # 写入新的 dataframe 到新的工作表\n",
    "    df.to_excel(writer, sheet_name, index=False)\n",
    "\n",
    "    # 保存更改\n",
    "    writer.save()\n",
    "    writer.close()"
   ]
  },
  {
   "cell_type": "code",
   "execution_count": 16,
   "metadata": {},
   "outputs": [
    {
     "ename": "FileNotFoundError",
     "evalue": "[Errno 2] No such file or directory: 'spider_git_data/out.xlsx'",
     "output_type": "error",
     "traceback": [
      "\u001b[0;31m---------------------------------------------------------------------------\u001b[0m",
      "\u001b[0;31mFileNotFoundError\u001b[0m                         Traceback (most recent call last)",
      "\u001b[1;32m/Users/tangedwin/Documents/ai/author_贡献度-1.ipynb 单元格 5\u001b[0m in \u001b[0;36m<cell line: 25>\u001b[0;34m()\u001b[0m\n\u001b[1;32m     <a href='vscode-notebook-cell:/Users/tangedwin/Documents/ai/author_%E8%B4%A1%E7%8C%AE%E5%BA%A6-1.ipynb#W4sZmlsZQ%3D%3D?line=21'>22</a>\u001b[0m merged_df[\u001b[39m'\u001b[39m\u001b[39mauthor_total_percentage\u001b[39m\u001b[39m'\u001b[39m] \u001b[39m=\u001b[39m (merged_df[\u001b[39m'\u001b[39m\u001b[39mauthor_commit_count\u001b[39m\u001b[39m'\u001b[39m] \u001b[39m/\u001b[39m merged_df[\u001b[39m'\u001b[39m\u001b[39mtotal_author_count\u001b[39m\u001b[39m'\u001b[39m]) \u001b[39m*\u001b[39m \u001b[39m100\u001b[39m\n\u001b[1;32m     <a href='vscode-notebook-cell:/Users/tangedwin/Documents/ai/author_%E8%B4%A1%E7%8C%AE%E5%BA%A6-1.ipynb#W4sZmlsZQ%3D%3D?line=23'>24</a>\u001b[0m \u001b[39m# 计算每个作者在每个文件的贡献度\u001b[39;00m\n\u001b[0;32m---> <a href='vscode-notebook-cell:/Users/tangedwin/Documents/ai/author_%E8%B4%A1%E7%8C%AE%E5%BA%A6-1.ipynb#W4sZmlsZQ%3D%3D?line=24'>25</a>\u001b[0m add_df_to_excel(merged_df, \u001b[39m'\u001b[39;49m\u001b[39mauthor_out\u001b[39;49m\u001b[39m'\u001b[39;49m)\n",
      "\u001b[1;32m/Users/tangedwin/Documents/ai/author_贡献度-1.ipynb 单元格 5\u001b[0m in \u001b[0;36madd_df_to_excel\u001b[0;34m(df, sheet_name, filename)\u001b[0m\n\u001b[1;32m      <a href='vscode-notebook-cell:/Users/tangedwin/Documents/ai/author_%E8%B4%A1%E7%8C%AE%E5%BA%A6-1.ipynb#W4sZmlsZQ%3D%3D?line=6'>7</a>\u001b[0m \u001b[39mdef\u001b[39;00m \u001b[39madd_df_to_excel\u001b[39m(df, sheet_name, filename\u001b[39m=\u001b[39mfilename):\n\u001b[1;32m      <a href='vscode-notebook-cell:/Users/tangedwin/Documents/ai/author_%E8%B4%A1%E7%8C%AE%E5%BA%A6-1.ipynb#W4sZmlsZQ%3D%3D?line=7'>8</a>\u001b[0m     \u001b[39m# 加载现有的 excel 文件\u001b[39;00m\n\u001b[0;32m----> <a href='vscode-notebook-cell:/Users/tangedwin/Documents/ai/author_%E8%B4%A1%E7%8C%AE%E5%BA%A6-1.ipynb#W4sZmlsZQ%3D%3D?line=8'>9</a>\u001b[0m     book \u001b[39m=\u001b[39m load_workbook(filename)\n\u001b[1;32m     <a href='vscode-notebook-cell:/Users/tangedwin/Documents/ai/author_%E8%B4%A1%E7%8C%AE%E5%BA%A6-1.ipynb#W4sZmlsZQ%3D%3D?line=10'>11</a>\u001b[0m     \u001b[39m# 创建 ExcelWriter 对象，使用这个 book\u001b[39;00m\n\u001b[1;32m     <a href='vscode-notebook-cell:/Users/tangedwin/Documents/ai/author_%E8%B4%A1%E7%8C%AE%E5%BA%A6-1.ipynb#W4sZmlsZQ%3D%3D?line=11'>12</a>\u001b[0m     writer \u001b[39m=\u001b[39m pd\u001b[39m.\u001b[39mExcelWriter(filename, engine\u001b[39m=\u001b[39m\u001b[39m'\u001b[39m\u001b[39mopenpyxl\u001b[39m\u001b[39m'\u001b[39m) \n",
      "File \u001b[0;32m~/.local/lib/python3.8/site-packages/openpyxl/reader/excel.py:315\u001b[0m, in \u001b[0;36mload_workbook\u001b[0;34m(filename, read_only, keep_vba, data_only, keep_links)\u001b[0m\n\u001b[1;32m    288\u001b[0m \u001b[39mdef\u001b[39;00m \u001b[39mload_workbook\u001b[39m(filename, read_only\u001b[39m=\u001b[39m\u001b[39mFalse\u001b[39;00m, keep_vba\u001b[39m=\u001b[39mKEEP_VBA,\n\u001b[1;32m    289\u001b[0m                   data_only\u001b[39m=\u001b[39m\u001b[39mFalse\u001b[39;00m, keep_links\u001b[39m=\u001b[39m\u001b[39mTrue\u001b[39;00m):\n\u001b[1;32m    290\u001b[0m \u001b[39m    \u001b[39m\u001b[39m\"\"\"Open the given filename and return the workbook\u001b[39;00m\n\u001b[1;32m    291\u001b[0m \n\u001b[1;32m    292\u001b[0m \u001b[39m    :param filename: the path to open or a file-like object\u001b[39;00m\n\u001b[0;32m   (...)\u001b[0m\n\u001b[1;32m    313\u001b[0m \n\u001b[1;32m    314\u001b[0m \u001b[39m    \"\"\"\u001b[39;00m\n\u001b[0;32m--> 315\u001b[0m     reader \u001b[39m=\u001b[39m ExcelReader(filename, read_only, keep_vba,\n\u001b[1;32m    316\u001b[0m                         data_only, keep_links)\n\u001b[1;32m    317\u001b[0m     reader\u001b[39m.\u001b[39mread()\n\u001b[1;32m    318\u001b[0m     \u001b[39mreturn\u001b[39;00m reader\u001b[39m.\u001b[39mwb\n",
      "File \u001b[0;32m~/.local/lib/python3.8/site-packages/openpyxl/reader/excel.py:124\u001b[0m, in \u001b[0;36mExcelReader.__init__\u001b[0;34m(self, fn, read_only, keep_vba, data_only, keep_links)\u001b[0m\n\u001b[1;32m    122\u001b[0m \u001b[39mdef\u001b[39;00m \u001b[39m__init__\u001b[39m(\u001b[39mself\u001b[39m,  fn, read_only\u001b[39m=\u001b[39m\u001b[39mFalse\u001b[39;00m, keep_vba\u001b[39m=\u001b[39mKEEP_VBA,\n\u001b[1;32m    123\u001b[0m               data_only\u001b[39m=\u001b[39m\u001b[39mFalse\u001b[39;00m, keep_links\u001b[39m=\u001b[39m\u001b[39mTrue\u001b[39;00m):\n\u001b[0;32m--> 124\u001b[0m     \u001b[39mself\u001b[39m\u001b[39m.\u001b[39marchive \u001b[39m=\u001b[39m _validate_archive(fn)\n\u001b[1;32m    125\u001b[0m     \u001b[39mself\u001b[39m\u001b[39m.\u001b[39mvalid_files \u001b[39m=\u001b[39m \u001b[39mself\u001b[39m\u001b[39m.\u001b[39marchive\u001b[39m.\u001b[39mnamelist()\n\u001b[1;32m    126\u001b[0m     \u001b[39mself\u001b[39m\u001b[39m.\u001b[39mread_only \u001b[39m=\u001b[39m read_only\n",
      "File \u001b[0;32m~/.local/lib/python3.8/site-packages/openpyxl/reader/excel.py:96\u001b[0m, in \u001b[0;36m_validate_archive\u001b[0;34m(filename)\u001b[0m\n\u001b[1;32m     89\u001b[0m             msg \u001b[39m=\u001b[39m (\u001b[39m'\u001b[39m\u001b[39mopenpyxl does not support \u001b[39m\u001b[39m%s\u001b[39;00m\u001b[39m file format, \u001b[39m\u001b[39m'\u001b[39m\n\u001b[1;32m     90\u001b[0m                    \u001b[39m'\u001b[39m\u001b[39mplease check you can open \u001b[39m\u001b[39m'\u001b[39m\n\u001b[1;32m     91\u001b[0m                    \u001b[39m'\u001b[39m\u001b[39mit with Excel first. \u001b[39m\u001b[39m'\u001b[39m\n\u001b[1;32m     92\u001b[0m                    \u001b[39m'\u001b[39m\u001b[39mSupported formats are: \u001b[39m\u001b[39m%s\u001b[39;00m\u001b[39m'\u001b[39m) \u001b[39m%\u001b[39m (file_format,\n\u001b[1;32m     93\u001b[0m                                                    \u001b[39m'\u001b[39m\u001b[39m,\u001b[39m\u001b[39m'\u001b[39m\u001b[39m.\u001b[39mjoin(SUPPORTED_FORMATS))\n\u001b[1;32m     94\u001b[0m         \u001b[39mraise\u001b[39;00m InvalidFileException(msg)\n\u001b[0;32m---> 96\u001b[0m archive \u001b[39m=\u001b[39m ZipFile(filename, \u001b[39m'\u001b[39;49m\u001b[39mr\u001b[39;49m\u001b[39m'\u001b[39;49m)\n\u001b[1;32m     97\u001b[0m \u001b[39mreturn\u001b[39;00m archive\n",
      "File \u001b[0;32m/opt/anaconda3/envs/ai/lib/python3.8/zipfile.py:1251\u001b[0m, in \u001b[0;36mZipFile.__init__\u001b[0;34m(self, file, mode, compression, allowZip64, compresslevel, strict_timestamps)\u001b[0m\n\u001b[1;32m   1249\u001b[0m \u001b[39mwhile\u001b[39;00m \u001b[39mTrue\u001b[39;00m:\n\u001b[1;32m   1250\u001b[0m     \u001b[39mtry\u001b[39;00m:\n\u001b[0;32m-> 1251\u001b[0m         \u001b[39mself\u001b[39m\u001b[39m.\u001b[39mfp \u001b[39m=\u001b[39m io\u001b[39m.\u001b[39;49mopen(file, filemode)\n\u001b[1;32m   1252\u001b[0m     \u001b[39mexcept\u001b[39;00m \u001b[39mOSError\u001b[39;00m:\n\u001b[1;32m   1253\u001b[0m         \u001b[39mif\u001b[39;00m filemode \u001b[39min\u001b[39;00m modeDict:\n",
      "\u001b[0;31mFileNotFoundError\u001b[0m: [Errno 2] No such file or directory: 'spider_git_data/out.xlsx'"
     ]
    }
   ],
   "source": [
    "# 基于'file'和'author'列来分组数据，并计算每个作者在每个文件的提交次数\n",
    "author_file_commit_counts = df.groupby(['file', 'author']).size().reset_index(name='commit_count_per_author')\n",
    "\n",
    "# 计算每个文件的总提交次数\n",
    "total_commit_counts = df.groupby('file').size().reset_index(name='total_commit_count')\n",
    "\n",
    "# 计算每个文件的总提交人数\n",
    "total_author_counts = df.groupby('file')['author'].nunique().reset_index(name='total_author_count')\n",
    "\n",
    "# 根据作者分组，计算每个作者的提交次数\n",
    "author_commit_counts = df.groupby('author').size().reset_index(name='author_commit_count')\n",
    "\n",
    "# 将这四个数据框合并\n",
    "merged_df = pd.merge(author_file_commit_counts, total_commit_counts, on='file')\n",
    "merged_df = pd.merge(merged_df, total_author_counts, on='file')\n",
    "merged_df = pd.merge(merged_df, author_commit_counts, on='author')\n",
    "\n",
    "# 计算每个作者的提交次数占总次数的百分比\n",
    "merged_df['author_commit_percentage'] = (merged_df['commit_count_per_author'] / merged_df['total_commit_count']) * 100\n",
    "\n",
    "# 计算每个作者占总提交人数的百分比\n",
    "merged_df['author_total_percentage'] = (merged_df['author_commit_count'] / merged_df['total_author_count']) * 100\n",
    "\n",
    "# 计算每个作者在每个文件的贡献度\n",
    "add_df_to_excel(merged_df, 'author_out')\n"
   ]
  },
  {
   "cell_type": "code",
   "execution_count": null,
   "metadata": {},
   "outputs": [
    {
     "name": "stderr",
     "output_type": "stream",
     "text": [
      "/var/folders/mg/y652zvws7fnb1d0m_y49f_mw0000gn/T/ipykernel_45734/797925376.py:15: FutureWarning: Setting the `book` attribute is not part of the public API, usage can give unexpected or corrupted results and will be removed in a future version\n",
      "  writer.book = book\n",
      "/var/folders/mg/y652zvws7fnb1d0m_y49f_mw0000gn/T/ipykernel_45734/797925376.py:21: FutureWarning: save is not part of the public API, usage can give unexpected results and will be removed in a future version\n",
      "  writer.save()\n"
     ]
    }
   ],
   "source": [
    "# 找出每个文件贡献度最高的作者\n",
    "idx = merged_df.groupby(['file'])['author_commit_percentage'].idxmax()\n",
    "top_contributors_per_file = merged_df.loc[idx]\n",
    "\n",
    "# 找出每个文件贡献度最高的作者\n",
    "add_df_to_excel(top_contributors_per_file, 'top_contributors_per_file')"
   ]
  },
  {
   "cell_type": "code",
   "execution_count": null,
   "metadata": {},
   "outputs": [
    {
     "name": "stderr",
     "output_type": "stream",
     "text": [
      "/var/folders/mg/y652zvws7fnb1d0m_y49f_mw0000gn/T/ipykernel_45734/797925376.py:15: FutureWarning: Setting the `book` attribute is not part of the public API, usage can give unexpected or corrupted results and will be removed in a future version\n",
      "  writer.book = book\n",
      "/var/folders/mg/y652zvws7fnb1d0m_y49f_mw0000gn/T/ipykernel_45734/797925376.py:21: FutureWarning: save is not part of the public API, usage can give unexpected results and will be removed in a future version\n",
      "  writer.save()\n"
     ]
    }
   ],
   "source": [
    "# 计算每个文件中每个作者的提交次数的比例\n",
    "merged_df['author_commit_ratio'] = merged_df['commit_count_per_author'] / merged_df['total_commit_count']\n",
    "\n",
    "# 计算每个文件的熵\n",
    "file_entropy = merged_df.groupby('file').apply(lambda x: -np.sum(x['author_commit_ratio'] * np.log2(x['author_commit_ratio']))).reset_index(name='entropy')\n",
    "\n",
    "# 计算每个文件的熵\n",
    "add_df_to_excel(file_entropy, 'file_entropy')"
   ]
  },
  {
   "cell_type": "code",
   "execution_count": null,
   "metadata": {},
   "outputs": [
    {
     "name": "stderr",
     "output_type": "stream",
     "text": [
      "/var/folders/mg/y652zvws7fnb1d0m_y49f_mw0000gn/T/ipykernel_45734/1472527061.py:4: UserWarning: Converting to PeriodArray/Index representation will drop timezone information.\n",
      "  df['commit_month'] = df['commit_time'].dt.to_period('M')\n",
      "/var/folders/mg/y652zvws7fnb1d0m_y49f_mw0000gn/T/ipykernel_45734/797925376.py:15: FutureWarning: Setting the `book` attribute is not part of the public API, usage can give unexpected or corrupted results and will be removed in a future version\n",
      "  writer.book = book\n",
      "/var/folders/mg/y652zvws7fnb1d0m_y49f_mw0000gn/T/ipykernel_45734/797925376.py:21: FutureWarning: save is not part of the public API, usage can give unexpected results and will be removed in a future version\n",
      "  writer.save()\n"
     ]
    }
   ],
   "source": [
    "df['commit_time'] = pd.to_datetime(df['commit_time'])\n",
    "\n",
    "# Group by file and time period\n",
    "df['commit_month'] = df['commit_time'].dt.to_period('M')\n",
    "grouped_df = df.groupby(['file', 'commit_month'])\n",
    "\n",
    "# Define helper functions\n",
    "def get_new_devs(group: pd.DataFrame, devs: List[str] = []) -> int:\n",
    "    unique_devs = group['author'].unique()\n",
    "    new_devs = len([dev for dev in unique_devs if dev not in devs])\n",
    "    devs.extend(unique_devs)\n",
    "    return new_devs\n",
    "\n",
    "def get_left_devs(group: pd.DataFrame, devs: List[str] = []) -> int:\n",
    "    unique_devs = group['author'].unique()\n",
    "    left_devs = len([dev for dev in devs if dev not in unique_devs])\n",
    "    devs = unique_devs\n",
    "    return left_devs\n",
    "\n",
    "# Calculate new and left developers for each time period and file\n",
    "new_devs = grouped_df.apply(get_new_devs)\n",
    "left_devs = grouped_df.apply(get_left_devs)\n",
    "\n",
    "# Combine the results into a new DataFrame\n",
    "stability_df = pd.DataFrame({\n",
    "    'file': new_devs.index.get_level_values(0),\n",
    "    'commit_month': new_devs.index.get_level_values(1),\n",
    "    'new_developers': new_devs,\n",
    "    'left_devs': left_devs,\n",
    "    'stability': new_devs + left_devs\n",
    "})\n",
    "\n",
    "# 计算每个文件的稳定性\n",
    "add_df_to_excel(stability_df, 'stability')"
   ]
  }
 ],
 "metadata": {
  "kernelspec": {
   "display_name": "Python 3",
   "language": "python",
   "name": "python3"
  },
  "language_info": {
   "codemirror_mode": {
    "name": "ipython",
    "version": 3
   },
   "file_extension": ".py",
   "mimetype": "text/x-python",
   "name": "python",
   "nbconvert_exporter": "python",
   "pygments_lexer": "ipython3",
   "version": "3.8.16"
  },
  "orig_nbformat": 4
 },
 "nbformat": 4,
 "nbformat_minor": 2
}
