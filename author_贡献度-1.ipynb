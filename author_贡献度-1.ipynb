{
 "cells": [
  {
   "attachments": {},
   "cell_type": "markdown",
   "metadata": {},
   "source": [
    "# 引用"
   ]
  },
  {
   "cell_type": "code",
   "execution_count": 74,
   "metadata": {},
   "outputs": [],
   "source": [
    "import pandas as pd\n",
    "import os\n",
    "import shutil\n",
    "from typing import List\n",
    "import pandas as pd\n",
    "from openpyxl import load_workbook"
   ]
  },
  {
   "cell_type": "code",
   "execution_count": 75,
   "metadata": {},
   "outputs": [],
   "source": [
    "# 加载CSV文件\n",
    "file_path = \"esg-daip-core-web.csv\"\n",
    "df = pd.read_csv(file_path, encoding='utf-8')"
   ]
  },
  {
   "cell_type": "code",
   "execution_count": 76,
   "metadata": {},
   "outputs": [],
   "source": [
    "folder_name = os.path.splitext(file_path)[0]\n",
    "if not os.path.exists(folder_name):\n",
    "    os.makedirs(folder_name, exist_ok=True)\n",
    "\n",
    "filename = os.path.join(folder_name, os.path.basename(\"out.xlsx\"))\n",
    "\n",
    "def add_df_to_excel(df, sheet_name, filename=filename):\n",
    "    # 加载现有的 excel 文件\n",
    "    book = load_workbook(filename)\n",
    "\n",
    "    # 创建 ExcelWriter 对象，使用这个 book\n",
    "    writer = pd.ExcelWriter(filename, engine='openpyxl') \n",
    "\n",
    "    # 将这个 book 作为 writer 对象的书\n",
    "    writer.book = book\n",
    "\n",
    "    # 写入新的 dataframe 到新的工作表\n",
    "    df.to_excel(writer, sheet_name, index=False)\n",
    "\n",
    "    # 保存更改\n",
    "    writer.save()\n",
    "    writer.close()"
   ]
  },
  {
   "cell_type": "code",
   "execution_count": 77,
   "metadata": {},
   "outputs": [
    {
     "name": "stderr",
     "output_type": "stream",
     "text": [
      "/var/folders/mg/y652zvws7fnb1d0m_y49f_mw0000gn/T/ipykernel_45734/797925376.py:15: FutureWarning: Setting the `book` attribute is not part of the public API, usage can give unexpected or corrupted results and will be removed in a future version\n",
      "  writer.book = book\n",
      "/var/folders/mg/y652zvws7fnb1d0m_y49f_mw0000gn/T/ipykernel_45734/797925376.py:21: FutureWarning: save is not part of the public API, usage can give unexpected results and will be removed in a future version\n",
      "  writer.save()\n"
     ]
    }
   ],
   "source": [
    "# 基于'file'和'author'列来分组数据，并计算每个作者在每个文件的提交次数\n",
    "author_file_commit_counts = df.groupby(['file', 'author']).size().reset_index(name='commit_count_per_author')\n",
    "\n",
    "# 计算每个文件的总提交次数\n",
    "total_commit_counts = df.groupby('file').size().reset_index(name='total_commit_count')\n",
    "\n",
    "# 计算每个文件的总提交人数\n",
    "total_author_counts = df.groupby('file')['author'].nunique().reset_index(name='total_author_count')\n",
    "\n",
    "# 根据作者分组，计算每个作者的提交次数\n",
    "author_commit_counts = df.groupby('author').size().reset_index(name='author_commit_count')\n",
    "\n",
    "# 将这四个数据框合并\n",
    "merged_df = pd.merge(author_file_commit_counts, total_commit_counts, on='file')\n",
    "merged_df = pd.merge(merged_df, total_author_counts, on='file')\n",
    "merged_df = pd.merge(merged_df, author_commit_counts, on='author')\n",
    "\n",
    "# 计算每个作者的提交次数占总次数的百分比\n",
    "merged_df['author_commit_percentage'] = (merged_df['commit_count_per_author'] / merged_df['total_commit_count']) * 100\n",
    "\n",
    "# 计算每个作者占总提交人数的百分比\n",
    "merged_df['author_total_percentage'] = (merged_df['author_commit_count'] / merged_df['total_author_count']) * 100\n",
    "\n",
    "# 计算每个作者在每个文件的贡献度\n",
    "add_df_to_excel(merged_df, 'author_out')\n"
   ]
  },
  {
   "cell_type": "code",
   "execution_count": 78,
   "metadata": {},
   "outputs": [
    {
     "name": "stderr",
     "output_type": "stream",
     "text": [
      "/var/folders/mg/y652zvws7fnb1d0m_y49f_mw0000gn/T/ipykernel_45734/797925376.py:15: FutureWarning: Setting the `book` attribute is not part of the public API, usage can give unexpected or corrupted results and will be removed in a future version\n",
      "  writer.book = book\n",
      "/var/folders/mg/y652zvws7fnb1d0m_y49f_mw0000gn/T/ipykernel_45734/797925376.py:21: FutureWarning: save is not part of the public API, usage can give unexpected results and will be removed in a future version\n",
      "  writer.save()\n"
     ]
    }
   ],
   "source": [
    "# 找出每个文件贡献度最高的作者\n",
    "idx = merged_df.groupby(['file'])['author_commit_percentage'].idxmax()\n",
    "top_contributors_per_file = merged_df.loc[idx]\n",
    "\n",
    "# 找出每个文件贡献度最高的作者\n",
    "add_df_to_excel(top_contributors_per_file, 'top_contributors_per_file')"
   ]
  },
  {
   "cell_type": "code",
   "execution_count": 79,
   "metadata": {},
   "outputs": [
    {
     "name": "stderr",
     "output_type": "stream",
     "text": [
      "/var/folders/mg/y652zvws7fnb1d0m_y49f_mw0000gn/T/ipykernel_45734/797925376.py:15: FutureWarning: Setting the `book` attribute is not part of the public API, usage can give unexpected or corrupted results and will be removed in a future version\n",
      "  writer.book = book\n",
      "/var/folders/mg/y652zvws7fnb1d0m_y49f_mw0000gn/T/ipykernel_45734/797925376.py:21: FutureWarning: save is not part of the public API, usage can give unexpected results and will be removed in a future version\n",
      "  writer.save()\n"
     ]
    }
   ],
   "source": [
    "# 计算每个文件中每个作者的提交次数的比例\n",
    "merged_df['author_commit_ratio'] = merged_df['commit_count_per_author'] / merged_df['total_commit_count']\n",
    "\n",
    "# 计算每个文件的熵\n",
    "file_entropy = merged_df.groupby('file').apply(lambda x: -np.sum(x['author_commit_ratio'] * np.log2(x['author_commit_ratio']))).reset_index(name='entropy')\n",
    "\n",
    "# 计算每个文件的熵\n",
    "add_df_to_excel(file_entropy, 'file_entropy')"
   ]
  },
  {
   "cell_type": "code",
   "execution_count": 80,
   "metadata": {},
   "outputs": [
    {
     "name": "stderr",
     "output_type": "stream",
     "text": [
      "/var/folders/mg/y652zvws7fnb1d0m_y49f_mw0000gn/T/ipykernel_45734/1472527061.py:4: UserWarning: Converting to PeriodArray/Index representation will drop timezone information.\n",
      "  df['commit_month'] = df['commit_time'].dt.to_period('M')\n",
      "/var/folders/mg/y652zvws7fnb1d0m_y49f_mw0000gn/T/ipykernel_45734/797925376.py:15: FutureWarning: Setting the `book` attribute is not part of the public API, usage can give unexpected or corrupted results and will be removed in a future version\n",
      "  writer.book = book\n",
      "/var/folders/mg/y652zvws7fnb1d0m_y49f_mw0000gn/T/ipykernel_45734/797925376.py:21: FutureWarning: save is not part of the public API, usage can give unexpected results and will be removed in a future version\n",
      "  writer.save()\n"
     ]
    }
   ],
   "source": [
    "df['commit_time'] = pd.to_datetime(df['commit_time'])\n",
    "\n",
    "# Group by file and time period\n",
    "df['commit_month'] = df['commit_time'].dt.to_period('M')\n",
    "grouped_df = df.groupby(['file', 'commit_month'])\n",
    "\n",
    "# Define helper functions\n",
    "def get_new_devs(group: pd.DataFrame, devs: List[str] = []) -> int:\n",
    "    unique_devs = group['author'].unique()\n",
    "    new_devs = len([dev for dev in unique_devs if dev not in devs])\n",
    "    devs.extend(unique_devs)\n",
    "    return new_devs\n",
    "\n",
    "def get_left_devs(group: pd.DataFrame, devs: List[str] = []) -> int:\n",
    "    unique_devs = group['author'].unique()\n",
    "    left_devs = len([dev for dev in devs if dev not in unique_devs])\n",
    "    devs = unique_devs\n",
    "    return left_devs\n",
    "\n",
    "# Calculate new and left developers for each time period and file\n",
    "new_devs = grouped_df.apply(get_new_devs)\n",
    "left_devs = grouped_df.apply(get_left_devs)\n",
    "\n",
    "# Combine the results into a new DataFrame\n",
    "stability_df = pd.DataFrame({\n",
    "    'file': new_devs.index.get_level_values(0),\n",
    "    'commit_month': new_devs.index.get_level_values(1),\n",
    "    'new_developers': new_devs,\n",
    "    'left_devs': left_devs,\n",
    "    'stability': new_devs + left_devs\n",
    "})\n",
    "\n",
    "# 计算每个文件的稳定性\n",
    "add_df_to_excel(stability_df, 'stability')"
   ]
  }
 ],
 "metadata": {
  "kernelspec": {
   "display_name": "Python 3",
   "language": "python",
   "name": "python3"
  },
  "language_info": {
   "codemirror_mode": {
    "name": "ipython",
    "version": 3
   },
   "file_extension": ".py",
   "mimetype": "text/x-python",
   "name": "python",
   "nbconvert_exporter": "python",
   "pygments_lexer": "ipython3",
   "version": "3.8.16"
  },
  "orig_nbformat": 4
 },
 "nbformat": 4,
 "nbformat_minor": 2
}
